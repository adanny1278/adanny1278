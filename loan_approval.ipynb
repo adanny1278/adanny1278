{
  "cells": [
    {
      "cell_type": "markdown",
      "metadata": {
        "id": "view-in-github",
        "colab_type": "text"
      },
      "source": [
        "<a href=\"https://colab.research.google.com/github/adanny1278/adanny1278/blob/main/loan_approval.ipynb\" target=\"_parent\"><img src=\"https://colab.research.google.com/assets/colab-badge.svg\" alt=\"Open In Colab\"/></a>"
      ]
    },
    {
      "cell_type": "markdown",
      "metadata": {
        "id": "U1zm4c0bIOne"
      },
      "source": [
        "# ML Challenge\n",
        "\n",
        "<img src=\"https://imageio.forbes.com/specials-images/imageserve/5ecd179f798e4c00060d2c7c/0x0.jpg?format=jpg&height=600&width=1200&fit=bounds\" width=\"500\" height=\"300\">\n",
        "\n",
        "In the bustling city of Financia, the Central Lending Institution (CLI) is the largest provider of loans to individuals and businesses. With a mission to support economic growth and financial stability, CLI processes thousands of loan applications every month. However, the traditional manual review process is time-consuming and prone to human error, leading to delays and inconsistencies in loan approvals.\n",
        "To address these challenges, CLI has decided to leverage the power of machine learning to streamline their loan approval process. They have compiled a comprehensive dataset containing historical loan application records, including various factors such as credit scores, income levels, employment status, loan terms(measured in years), loan amounts, asset values, and the final loan status (approved or denied).\n",
        "\n",
        "\n",
        "**Your task is to develop a predictive model that can accurately determine the likelihood of loan approval based on the provided features. By doing so, you will help CLI make faster, more accurate, and fairer lending decisions, ultimately contributing to the financial well-being of the community.**\n",
        "\n",
        "It is recommended that you follow the typical machine learning workflow, though you are not required to strictly follow each steps:\n",
        "1. Data Collection: Gather the data you need for your model. (Already done for you)\n",
        "\n",
        "2. Data Preprocessing: Clean and prepare the data for analysis. (Already done for you)\n",
        "\n",
        "3. Exploratory Data Analysis (EDA): Understand the data and its patterns. (Partially done for you)\n",
        "\n",
        "4. Feature Engineering: Create new features or modify existing ones to improve model performance. (Partially done for you)\n",
        "\n",
        "5. Model Selection: Choose the appropriate machine learning algorithm.\n",
        "\n",
        "6. Model Training: Train the model using the training dataset.\n",
        "\n",
        "7. Model Evaluation: Evaluate the model's performance using a validation dataset.\n",
        "\n",
        "8. Model Optimization: Optimize the model's parameters to improve performance.\n",
        "\n",
        "9. Model Testing: Test the final model on a separate test dataset.\n",
        "\n",
        "**Please include ALL your work and thought process in this notebook**"
      ]
    },
    {
      "cell_type": "code",
      "execution_count": 99,
      "metadata": {
        "id": "2ISKqpaXIOnj"
      },
      "outputs": [],
      "source": [
        "# You may include any package you deem fit. We sugggest looking into Scikit-learn\n",
        "import pandas as bruh\n",
        "import numpy as np\n",
        "from sklearn.model_selection import cross_val_score\n",
        "from sklearn.model_selection import train_test_split\n",
        "from sklearn.linear_model import LinearRegression"
      ]
    },
    {
      "cell_type": "markdown",
      "metadata": {
        "id": "ui_EPihtIOnl"
      },
      "source": [
        "## Dataset\n"
      ]
    },
    {
      "cell_type": "code",
      "execution_count": 100,
      "metadata": {
        "id": "RH3892jKIOnm"
      },
      "outputs": [],
      "source": [
        "# DO NOT MODIFY\n",
        "loan_data = bruh.read_csv(\"/content/loan_approval.csv\")\n"
      ]
    },
    {
      "cell_type": "markdown",
      "metadata": {
        "id": "HR1dUHEHIOnn"
      },
      "source": [
        "## EDA\n",
        "Uncomment to see desired output. Add more analysis if you like"
      ]
    },
    {
      "cell_type": "code",
      "execution_count": 62,
      "metadata": {
        "colab": {
          "base_uri": "https://localhost:8080/",
          "height": 624
        },
        "id": "ZlFfwrM-IOnp",
        "outputId": "38d80c06-4bcd-4846-fba1-b7547b300e43"
      },
      "outputs": [
        {
          "output_type": "display_data",
          "data": {
            "text/plain": [
              "<Figure size 640x480 with 1 Axes>"
            ],
            "image/png": "[encoded data removed]"
          },
          "metadata": {}
        },
        {
          "output_type": "stream",
          "name": "stdout",
          "text": [
            "High loan:  loan_status\n",
            "Approved    1277\n",
            "Rejected     762\n",
            "Name: count, dtype: int64 \n",
            "\n",
            "Low loan:  loan_status\n",
            "Approved    1379\n",
            "Rejected     851\n",
            "Name: count, dtype: int64\n"
          ]
        }
      ],
      "source": [
        "\n",
        "import matplotlib.pyplot as plt\n",
        "\n",
        "# ------ Display basic information ------\n",
        "# print(loan_data.columns)\n",
        "# print(loan_data.describe())\n",
        "\n",
        "# ------ Check for missing values ------\n",
        "# print(loan_data.isnull().sum()) nice\n",
        "\n",
        "# ------ Visualize the distribution of loan status ------\n",
        "# loan_status_counts = loan_data['loan_status'].value_counts()\n",
        "# plt.bar(loan_status_counts.index, loan_status_counts.values)\n",
        "# plt.title('Distribution of Loan Status')\n",
        "# plt.xlabel('Loan Status')\n",
        "# plt.ylabel('Count')\n",
        "\n",
        "# ------ Visualize the distribution of numerical features ------\n",
        "# loan_data.hist(bins=30, figsize=(20, 15))\n",
        "\n",
        "# ------ Correlation matrix ------\n",
        "# corr_matrix = loan_data.select_dtypes(include=[float, int]).corr() had to add select dtypes lol\n",
        "# fig, ax = plt.subplots(figsize=(10, 8))\n",
        "# cax = ax.matshow(corr_matrix, cmap='coolwarm')\n",
        "# fig.colorbar(cax)\n",
        "# plt.xticks(range(len(corr_matrix.columns)), corr_matrix.columns, rotation=90)\n",
        "# plt.yticks(range(len(corr_matrix.columns)), corr_matrix.columns)\n",
        "\n",
        "# ----- MORE (Encouraged but not required) ------\n",
        "#There are sooo many connections I can make, so I'm gonna js do 4!\n",
        "# ------ Visualize the distribution of loan status among Grads & Non-Grads ------\n",
        "\n",
        "#find approvals and rejections data for grads\n",
        "# loan_status_grad = loan_data[loan_data['education'] == \"Graduate\"]['loan_status'].value_counts()\n",
        "# plt.bar([\"Grads approved\", \"Grads denied\"], loan_status_grad.values)\n",
        "# plt.title('Distribution of Grads')\n",
        "\n",
        "\n",
        "# #find approvals and rejections data for non grads\n",
        "# loan_status_nonG = loan_data[loan_data['education'] != \"Graduate\"]['loan_status'].value_counts()\n",
        "# plt.bar([\"No Grad approve\", \"No Grad deny\"], loan_status_nonG.values) #weird words to fit the space lol\n",
        "\n",
        "# #plot x and y labels\n",
        "# plt.xlabel('Loan Status')\n",
        "# plt.ylabel('Count')\n",
        "\n",
        "\n",
        "#Does a larger income mean more likely to be approved?\n",
        "\n",
        "# avg_income = loan_data['income_annum'].mean()\n",
        "\n",
        "# high_income = loan_data[bruh.to_numeric(loan_data['income_annum']) >= avg_income]['loan_status'].value_counts()\n",
        "# low_income = loan_data[bruh.to_numeric(loan_data['income_annum']) <= avg_income]['loan_status'].value_counts()\n",
        "\n",
        "# --------------------- Looks to be about the same -----------------------\n",
        "#plt.pie(high_income.values, labels = high_income.index, shadow = True)\n",
        "#plt.pie(low_income.values, labels = low_income.index, shadow = True)\n",
        "\n",
        "\n",
        "#Same thing but maybe bank assets have more pull?\n",
        "\n",
        "# avg_asset = loan_data['bank_asset_value'].mean()\n",
        "\n",
        "# high_assets = loan_data[bruh.to_numeric(loan_data['bank_asset_value']) >= avg_income]['loan_status'].value_counts()\n",
        "# low_assets = loan_data[bruh.to_numeric(loan_data['bank_asset_value']) <= avg_income]['loan_status'].value_counts()\n",
        "\n",
        "#--------------------- Looks to be about the same -----------------------\n",
        "#plt.pie(high_assets.values, labels = high_assets.index, shadow = True)\n",
        "#plt.pie(low_assets.values, labels = low_assets.index, shadow = True)\n",
        "\n",
        "\n",
        "#Alrigh last one - loan amount correspoonding to higher approval?\n",
        "\n",
        "# avg_loan_amt = loan_data['loan_amount'].mean()\n",
        "\n",
        "# high_loan = loan_data[bruh.to_numeric(loan_data['loan_amount']) >= avg_loan_amt] #group all loans that were above the mean loan amt\n",
        "# high_approved = high_loan[high_loan['loan_status'] == \"Approved\"][\"loan_amount\"] #show all loans above mean that were approved\n",
        "# high_rejected = high_loan[high_loan['loan_status'] == \"Rejected\"][\"loan_amount\"] #show all loans above mean that were rejected\n",
        "\n",
        "# low_loan = loan_data[bruh.to_numeric(loan_data['loan_amount']) <= avg_loan_amt] #group all loans that were below the mean loan amt\n",
        "# low_approved = low_loan[low_loan['loan_status'] == \"Approved\"][\"loan_amount\"] #show all loans below mean that were approved\n",
        "# low_rejected = low_loan[low_loan['loan_status'] == \"Rejected\"][\"loan_amount\"] #show all loans below mean that were rejected\n",
        "\n",
        "#plot a histogram of high & low approved loans\n",
        "# plt.hist(high_approved)\n",
        "# plt.hist(high_approved, label='High Loans', edgecolor='black')\n",
        "# plt.hist(low_approved)\n",
        "# plt.hist(low_approved, label='Low Loans', edgecolor='black')\n",
        "# plt.legend()\n",
        "# plt.show()\n",
        "\n",
        "#plot a histogram of high & low rejected loans\n",
        "# plt.hist(high_rejected)\n",
        "# plt.hist(high_rejected, label='High Loans', edgecolor='black')\n",
        "# plt.hist(low_rejected)\n",
        "# plt.hist(low_rejected, label='Low Loans', edgecolor='black')\n",
        "# plt.legend()\n",
        "# plt.show()\n",
        "\n",
        "#just for ease sake, show how many loans were approved/rejected\n",
        "# print(\"High loan: \", loan_data[bruh.to_numeric(loan_data['loan_amount']) >= avg_loan_amt][\"loan_status\"].value_counts(), \"\\n\")\n",
        "# print(\"Low loan: \", loan_data[bruh.to_numeric(loan_data['loan_amount']) <= avg_loan_amt][\"loan_status\"].value_counts())\n",
        "#Low Approval & Rejection is fairly consistent\n",
        "#High Approval & Rejection cluster around 20 Million"
      ]
    },
    {
      "cell_type": "markdown",
      "metadata": {
        "id": "OStSnL8zIOns"
      },
      "source": [
        "## Feature Engineering\n",
        "\n",
        "You may want to convert categorical variables to numerical. For example, education takes on the value Graduate and Not Graduate. But we want it to be 0 or 1 for machine learning algorithms to use."
      ]
    },
    {
      "cell_type": "code",
      "execution_count": 102,
      "metadata": {
        "id": "ek-7QzDmIOnt"
      },
      "outputs": [],
      "source": [
        "\n",
        "loan_data['education'] = loan_data['education'].map({'Graduate': 1, 'Not Graduate': 0})\n",
        "loan_data['self_employed'] = loan_data['self_employed'].map({'Yes': 1, 'No': 0})\n",
        "loan_data['loan_status'] = loan_data['loan_status'].replace({'Approved': 1, 'Rejected': 0})\n"
      ]
    },
    {
      "cell_type": "markdown",
      "metadata": {
        "id": "4HQSNfgtIOnu"
      },
      "source": [
        "## Model Selection\n",
        "\n",
        "You are free to use any classification machine learning models you like: Logistic Regression, Decision Trees/Random Forests, Support Vector Machines, KNN ..."
      ]
    },
    {
      "cell_type": "code",
      "execution_count": 110,
      "metadata": {
        "id": "IFC-0PzLIOnw"
      },
      "outputs": [],
      "source": [
        "from sklearn.ensemble import GradientBoostingClassifier\n",
        "from sklearn.model_selection import train_test_split\n",
        "from sklearn.metrics import accuracy_score"
      ]
    },
    {
      "cell_type": "markdown",
      "metadata": {
        "id": "OTLncKvlIOnx"
      },
      "source": [
        "## Model Training and Evaluation"
      ]
    },
    {
      "cell_type": "code",
      "execution_count": 112,
      "metadata": {
        "colab": {
          "base_uri": "https://localhost:8080/"
        },
        "id": "99x7xXPnIOnz",
        "outputId": "7faa4df0-9802-4400-e314-da732f09c95e"
      },
      "outputs": [
        {
          "output_type": "stream",
          "name": "stdout",
          "text": [
            "The accuration of classification is  97.73614363778297\n"
          ]
        }
      ],
      "source": [
        "X = loan_data.iloc[:,1:11]\n",
        "y = loan_data.iloc[:,12]\n",
        "\n",
        "X_train, X_test, y_train, y_test = train_test_split(X, y, test_size=0.3, random_state=42)\n",
        "# classify = ('Gradient Boosting')\n",
        "# y_pos = np.arange(len(classify))\n",
        "model = GradientBoostingClassifier()  # For regression, use GradientBoostingRegressor()\n",
        "model.fit(X_train, y_train)\n",
        "# score = []\n",
        "# classyfy = GradientBoostingClassifier()\n",
        "# scores = cross_val_score(classyfy, x, y,cv=5)\n",
        "# score.append(scores.mean())\n",
        "y_pred = model.predict(X_test)\n",
        "accuracy = accuracy_score(y_test, y_pred)\n",
        "print('The accuration of classification is ', accuracy*100) #pretty good!"
      ]
    },
    {
      "cell_type": "markdown",
      "metadata": {
        "id": "THxktDDKIOnz"
      },
      "source": [
        "## Model Optimization and Testing"
      ]
    },
    {
      "cell_type": "code",
      "execution_count": 116,
      "metadata": {
        "colab": {
          "base_uri": "https://localhost:8080/",
          "height": 492
        },
        "id": "6Kg69Kh0IOn0",
        "outputId": "decb5013-77ec-469c-f5b2-4d85a2368a0d"
      },
      "outputs": [
        {
          "output_type": "display_data",
          "data": {
            "text/plain": [
              "<Figure size 640x480 with 1 Axes>"
            ],
            "image/png": "[encoded data removed]"
          },
          "metadata": {}
        }
      ],
      "source": [
        "plt.plot(model.train_score_, label='Training Error')\n",
        "plt.xlabel('Num. Boost Iterations')\n",
        "plt.ylabel('Training Error')\n",
        "plt.title('Learning Curve')\n",
        "plt.legend()\n",
        "plt.show()\n"
      ]
    },
    {
      "cell_type": "code",
      "source": [],
      "metadata": {
        "id": "MTQSANY-Ez6H"
      },
      "execution_count": null,
      "outputs": []
    }
  ],
  "metadata": {
    "kernelspec": {
      "display_name": "Python 3",
      "language": "python",
      "name": "python3"
    },
    "language_info": {
      "codemirror_mode": {
        "name": "ipython",
        "version": 3
      },
      "file_extension": ".py",
      "mimetype": "text/x-python",
      "name": "python",
      "nbconvert_exporter": "python",
      "pygments_lexer": "ipython3",
      "version": "3.10.1"
    },
    "colab": {
      "provenance": [],
      "include_colab_link": true
    }
  },
  "nbformat": 4,
  "nbformat_minor": 0
}